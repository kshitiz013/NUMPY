{
  "nbformat": 4,
  "nbformat_minor": 0,
  "metadata": {
    "colab": {
      "provenance": []
    },
    "kernelspec": {
      "name": "python3",
      "display_name": "Python 3"
    },
    "language_info": {
      "name": "python"
    }
  },
  "cells": [
    {
      "cell_type": "code",
      "source": [
        "# Theoretical Questions:"
      ],
      "metadata": {
        "id": "hoD1lERYm5J1"
      },
      "execution_count": 2,
      "outputs": []
    },
    {
      "cell_type": "code",
      "execution_count": 3,
      "metadata": {
        "id": "lFASojImjW_S"
      },
      "outputs": [],
      "source": [
        "#  1.Explain the purpose and advantages of NumPy in scientific computing and data analysis. How does it enhance Python's capabilities for numerical operations?"
      ]
    },
    {
      "cell_type": "code",
      "source": [
        "# numpy is written in c language which is one of the fastest language,numpy provide numpy array,which is way faster than python data structure like list and tuple.\n",
        "# operation on numpy is faster than on python built in data structure"
      ],
      "metadata": {
        "id": "IuhSKcmHm4WK"
      },
      "execution_count": 4,
      "outputs": []
    },
    {
      "cell_type": "code",
      "source": [
        "# 2. Compare and contrast np.mean() and np.average() functions in NumPy. When would you use one over the other?"
      ],
      "metadata": {
        "id": "CkrQQLXCnrhV"
      },
      "execution_count": 5,
      "outputs": []
    },
    {
      "cell_type": "code",
      "source": [
        "# Both np.mean() and np.average() are used to compute the average of an array,np.mean() calculates the arithmetic mean of the elements along a specified axis\n",
        "# while np.average() calculates the weighted average of the elements."
      ],
      "metadata": {
        "id": "UtbTjfL-nwcg"
      },
      "execution_count": 6,
      "outputs": []
    },
    {
      "cell_type": "code",
      "source": [
        "# 3. Describe the methods for reversing a NumPy array along different axes. Provide examples for 1D and 2D arrays."
      ],
      "metadata": {
        "id": "ORuz0ddMoZzC"
      },
      "execution_count": 7,
      "outputs": []
    },
    {
      "cell_type": "code",
      "source": [
        "# 1D Array Reversal\n",
        "# Using Slicing, reverse a 1D array by using slicing with a step of -1."
      ],
      "metadata": {
        "id": "I_rm5l55ogaY"
      },
      "execution_count": 8,
      "outputs": []
    },
    {
      "cell_type": "code",
      "source": [
        "import numpy as np\n",
        "arr_1d = np.array([1, 2, 3, 4, 5])\n",
        "reversed_arr_1d = arr_1d[::-1]\n",
        "print(reversed_arr_1d)\n"
      ],
      "metadata": {
        "colab": {
          "base_uri": "https://localhost:8080/"
        },
        "id": "8L9Qs8_uo45m",
        "outputId": "9c128c7d-6c8c-4ce6-af7e-ff67ce10f80a"
      },
      "execution_count": 9,
      "outputs": [
        {
          "output_type": "stream",
          "name": "stdout",
          "text": [
            "[5 4 3 2 1]\n"
          ]
        }
      ]
    },
    {
      "cell_type": "code",
      "source": [
        "arr_2d = np.array([[1, 2, 3],\n",
        "                   [4, 5, 6],\n",
        "                   [7, 8, 9]])\n",
        "reversed_rows = arr_2d[::-1, :]\n",
        "print(reversed_rows)\n",
        "reversed_rows_ud = np.flipud(arr_2d)\n",
        "print(reversed_rows_ud)\n",
        "reversed_columns = arr_2d[:, ::-1]\n",
        "print(reversed_columns)\n",
        "reversed_columns_lr = np.fliplr(arr_2d)\n",
        "print(reversed_columns_lr)\n"
      ],
      "metadata": {
        "colab": {
          "base_uri": "https://localhost:8080/"
        },
        "id": "Bk_gFxZ0o_w3",
        "outputId": "3ad900b3-b0a0-4dc8-c3e0-714326c0ecc9"
      },
      "execution_count": 10,
      "outputs": [
        {
          "output_type": "stream",
          "name": "stdout",
          "text": [
            "[[7 8 9]\n",
            " [4 5 6]\n",
            " [1 2 3]]\n",
            "[[7 8 9]\n",
            " [4 5 6]\n",
            " [1 2 3]]\n",
            "[[3 2 1]\n",
            " [6 5 4]\n",
            " [9 8 7]]\n",
            "[[3 2 1]\n",
            " [6 5 4]\n",
            " [9 8 7]]\n"
          ]
        }
      ]
    },
    {
      "cell_type": "code",
      "source": [
        "# 4. How can you determine the data type of elements in a NumPy array? Discuss the importance of data types in memory management and performance."
      ],
      "metadata": {
        "id": "_Xy2jOi6pd-M"
      },
      "execution_count": 11,
      "outputs": []
    },
    {
      "cell_type": "code",
      "source": [
        "import numpy as np\n",
        "arr = np.array([1, 2, 3, 4])\n",
        "data_type = arr.dtype\n",
        "print(data_type)\n"
      ],
      "metadata": {
        "colab": {
          "base_uri": "https://localhost:8080/"
        },
        "id": "pPMV3GhNpkvE",
        "outputId": "1d60419e-96b5-4906-fe72-0feb2a98ad08"
      },
      "execution_count": 14,
      "outputs": [
        {
          "output_type": "stream",
          "name": "stdout",
          "text": [
            "int64\n"
          ]
        }
      ]
    },
    {
      "cell_type": "code",
      "source": [
        "# Different data types consume different amounts of memory. For example, an int64 takes 8 bytes, while an int32 takes 4 bytes.\n",
        "# Choosing the appropriate data type can significantly reduce memory usage, especially for large datasets.\n",
        "# Using smaller data types (like np.int8 or np.float32) when possible can save memory without sacrificing performance.\n",
        "# The performance of operations can be affected by data types. For instance, operations on float64 are generally slower than on float32 due to the increased\n",
        "# complexity of handling larger data types."
      ],
      "metadata": {
        "id": "LX_gfZaRp1Bv"
      },
      "execution_count": 15,
      "outputs": []
    },
    {
      "cell_type": "code",
      "source": [
        "# 5. Define ndarrays in NumPy and explain their key features. How do they differ from standard Python lists?"
      ],
      "metadata": {
        "id": "05d4CCyhqpXO"
      },
      "execution_count": 16,
      "outputs": []
    },
    {
      "cell_type": "code",
      "source": [
        "# numpy ndarrays is a data structure or a container to store data of same data type.In list we can store different data types,but array store onlt homogeneous data types.\n",
        "# we know that same data type have continuous memory location so the calculation on array is much faster than the list"
      ],
      "metadata": {
        "id": "ckNNyJ73qvLE"
      },
      "execution_count": 17,
      "outputs": []
    },
    {
      "cell_type": "code",
      "source": [
        "# 6. Analyze the performance benefits of NumPy arrays over Python lists for large-scale numerical operations."
      ],
      "metadata": {
        "id": "lJhLc3fYrcL2"
      },
      "execution_count": 18,
      "outputs": []
    },
    {
      "cell_type": "code",
      "source": [
        "# Contiguous Memory Allocation: NumPy arrays store data in contiguous blocks of memory, which reduces overhead and improves cache performance.\n",
        "#  Python lists, on the other hand, are arrays of pointers to objects, leading to increased memory overhead.\n",
        "#  Fixed Data Types: NumPy arrays have a fixed data type, which allows for optimized memory storage. Python lists can hold mixed types, but this\n",
        "#  flexibility incurs additional overhead and fragmentation.\n",
        "#  Vectorized Operations: NumPy supports vectorized operations, which means operations are performed on entire arrays rather than element-by-element.\n",
        "#  This is implemented in C, allowing for significant speed improvements.\n",
        "#  Efficient Operations on Arrays of Different Shapes: NumPy allows for broadcasting, which enables operations on arrays of different shapes without\n",
        "#  needing explicit loops or reshaping, leading to more concise and efficient code."
      ],
      "metadata": {
        "id": "nEaHMj1Wrf4R"
      },
      "execution_count": 19,
      "outputs": []
    },
    {
      "cell_type": "code",
      "source": [
        "# 7. Compare vstack() and hstack() functions in NumPy. Provide examples demonstrating their usage and output."
      ],
      "metadata": {
        "id": "oXfiKjKwsQ2K"
      },
      "execution_count": 20,
      "outputs": []
    },
    {
      "cell_type": "code",
      "source": [
        "# In NumPy, vstack() and hstack() are used to stack arrays vertically and horizontally, respectively.\n",
        "# np.vstack Stacks arrays in sequence vertically (row-wise).\n",
        "# np.hstack() Stacks arrays in sequence horizontally (column-wise)."
      ],
      "metadata": {
        "id": "mhDkO9q0sUtt"
      },
      "execution_count": 22,
      "outputs": []
    },
    {
      "cell_type": "code",
      "source": [
        "import numpy as np\n",
        "arr1 = np.array([[1, 2], [3, 4]])\n",
        "arr2 = np.array([[5, 6]])\n",
        "vstack_result = np.vstack((arr1, arr2))\n",
        "print(vstack_result)\n"
      ],
      "metadata": {
        "colab": {
          "base_uri": "https://localhost:8080/"
        },
        "id": "n3NyC1nStRw5",
        "outputId": "c73f55fa-4c57-4bbd-d9ea-7495367b00e1"
      },
      "execution_count": 24,
      "outputs": [
        {
          "output_type": "stream",
          "name": "stdout",
          "text": [
            "[[1 2]\n",
            " [3 4]\n",
            " [5 6]]\n"
          ]
        }
      ]
    },
    {
      "cell_type": "code",
      "source": [
        "arr3 = np.array([[1, 2], [3, 4]])\n",
        "arr4 = np.array([[5], [6]])\n",
        "hstack_result = np.hstack((arr3, arr4))\n",
        "print(\"Horizontal Stack Result:\")\n",
        "print(hstack_result)\n"
      ],
      "metadata": {
        "colab": {
          "base_uri": "https://localhost:8080/"
        },
        "id": "u0WWfT7atcZt",
        "outputId": "bf438d0d-3d7b-4658-eb87-eefd52586463"
      },
      "execution_count": 25,
      "outputs": [
        {
          "output_type": "stream",
          "name": "stdout",
          "text": [
            "Horizontal Stack Result:\n",
            "[[1 2 5]\n",
            " [3 4 6]]\n"
          ]
        }
      ]
    },
    {
      "cell_type": "code",
      "source": [
        "# 8. Explain the differences between fliplr() and flipud() methods in NumPy, including their effects on various array dimensions."
      ],
      "metadata": {
        "id": "o5W9fPRGtnnK"
      },
      "execution_count": 26,
      "outputs": []
    },
    {
      "cell_type": "code",
      "source": [
        "# # In NumPy, fliplr() and flipud() are functions used to flip arrays, but they operate in different orientations:\n",
        "# flipslr() flips an array from left to right (horizontally).\n",
        "# flipud() Purpose: Flips an array from up to down (vertically)."
      ],
      "metadata": {
        "id": "NxBpD1CNtyCF"
      },
      "execution_count": 28,
      "outputs": []
    },
    {
      "cell_type": "code",
      "source": [
        "# 9. Discuss the functionality of the array_split() method in NumPy. How does it handle uneven splits?"
      ],
      "metadata": {
        "id": "L5kDm1Mst8t3"
      },
      "execution_count": 29,
      "outputs": []
    },
    {
      "cell_type": "code",
      "source": [
        "# The np.array_split() function in NumPy is used to split an array into multiple sub-arrays. It is particularly useful when you want to divide an\n",
        "# array into smaller chunks or sections. Here’s a detailed overview of its functionality and how it handles uneven splits."
      ],
      "metadata": {
        "id": "b4GHqP5Nua2S"
      },
      "execution_count": 30,
      "outputs": []
    },
    {
      "cell_type": "code",
      "source": [
        "import numpy as np\n",
        "\n",
        "arr = np.array([1, 2, 3, 4, 5, 6])\n",
        "split_even = np.array_split(arr, 3)\n",
        "print(\"Even Split:\")\n",
        "print(split_even)\n"
      ],
      "metadata": {
        "colab": {
          "base_uri": "https://localhost:8080/"
        },
        "id": "WKCmt5PcvDxB",
        "outputId": "19a2a2c5-87f4-49f7-f858-223e39d03647"
      },
      "execution_count": 31,
      "outputs": [
        {
          "output_type": "stream",
          "name": "stdout",
          "text": [
            "Even Split:\n",
            "[array([1, 2]), array([3, 4]), array([5, 6])]\n"
          ]
        }
      ]
    },
    {
      "cell_type": "code",
      "source": [
        "# 10. Explain the concepts of vectorization and broadcasting in NumPy. How do they contribute to efficient array operations?"
      ],
      "metadata": {
        "id": "wkeOT8hLv1Ia"
      },
      "execution_count": 33,
      "outputs": []
    },
    {
      "cell_type": "code",
      "source": [
        "# Vectorization refers to the practice of performing operations on entire arrays (or large chunks of data) at once, rather than using explicit loops to process\n",
        "# individual elements. In NumPy, vectorized operations are executed in compiled code (typically in C), which is much faster than Python loops.\n",
        "# Broadcasting is a powerful mechanism that allows NumPy to perform arithmetic operations on arrays of different shapes. It automatically expands the smaller array\n",
        "# across the larger array's dimensions so that they have compatible shapes for element-wise operations."
      ],
      "metadata": {
        "id": "IZiHqB7uvHJz"
      },
      "execution_count": 32,
      "outputs": []
    },
    {
      "cell_type": "code",
      "source": [],
      "metadata": {
        "id": "8-PVOicPv4g8"
      },
      "execution_count": 33,
      "outputs": []
    },
    {
      "cell_type": "code",
      "source": [
        "# Practical Questions:"
      ],
      "metadata": {
        "id": "16m84b-AvwEJ"
      },
      "execution_count": 34,
      "outputs": []
    },
    {
      "cell_type": "code",
      "source": [
        "# 1. Create a 3x3 NumPy array with random integers between 1 and 100. Then, interchange its rows and columns."
      ],
      "metadata": {
        "id": "qHjB9gwGv976"
      },
      "execution_count": 35,
      "outputs": []
    },
    {
      "cell_type": "code",
      "source": [
        "import numpy as np\n",
        "array_3x3 = np.random.randint(1, 101, size=(3, 3))\n",
        "print(array_3x3)\n",
        "print(\"\")\n",
        "transposed_array = np.transpose(array_3x3)\n",
        "print(transposed_array)\n"
      ],
      "metadata": {
        "colab": {
          "base_uri": "https://localhost:8080/"
        },
        "id": "xiVm1a6iwES3",
        "outputId": "7ea72357-bcdd-43a9-a17f-3952c8f5896b"
      },
      "execution_count": 38,
      "outputs": [
        {
          "output_type": "stream",
          "name": "stdout",
          "text": [
            "[[17 80 47]\n",
            " [76 73 85]\n",
            " [68 31 49]]\n",
            "\n",
            "[[17 76 68]\n",
            " [80 73 31]\n",
            " [47 85 49]]\n"
          ]
        }
      ]
    },
    {
      "cell_type": "code",
      "source": [
        "# 2. Generate a 1D NumPy array with 10 elements. Reshape it into a 2x5 array, then into a 5x2 array"
      ],
      "metadata": {
        "id": "byYGlmJyzbh0"
      },
      "execution_count": 39,
      "outputs": []
    },
    {
      "cell_type": "code",
      "source": [
        "import numpy as np\n",
        "\n",
        "array_1d = np.arange(10)\n",
        "print(\"Original 1D Array:\")\n",
        "print(array_1d)\n",
        "array_2x5 = array_1d.reshape(2, 5)\n",
        "print(\"\\nReshaped to 2x5 Array:\")\n",
        "print(array_2x5)\n",
        "\n",
        "array_5x2 = array_1d.reshape(5, 2)\n",
        "print(\"\\nReshaped to 5x2 Array:\")\n",
        "print(array_5x2)\n"
      ],
      "metadata": {
        "colab": {
          "base_uri": "https://localhost:8080/"
        },
        "id": "pQ9WvTbryP0p",
        "outputId": "6aebefe7-955a-485a-c9ca-248ff67762c2"
      },
      "execution_count": 40,
      "outputs": [
        {
          "output_type": "stream",
          "name": "stdout",
          "text": [
            "Original 1D Array:\n",
            "[0 1 2 3 4 5 6 7 8 9]\n",
            "\n",
            "Reshaped to 2x5 Array:\n",
            "[[0 1 2 3 4]\n",
            " [5 6 7 8 9]]\n",
            "\n",
            "Reshaped to 5x2 Array:\n",
            "[[0 1]\n",
            " [2 3]\n",
            " [4 5]\n",
            " [6 7]\n",
            " [8 9]]\n"
          ]
        }
      ]
    },
    {
      "cell_type": "code",
      "source": [
        "# 3. Create a 4x4 NumPy array with random float values. Add a border of zeros around it, resulting in a 6x6 array."
      ],
      "metadata": {
        "id": "NvC9kyMIznbz"
      },
      "execution_count": 41,
      "outputs": []
    },
    {
      "cell_type": "code",
      "source": [
        "import numpy as np\n",
        "array_4x4 = np.random.rand(4, 4)\n",
        "print(\"Original 4x4 Array:\")\n",
        "print(array_4x4)\n",
        "\n",
        "array_with_border = np.pad(array_4x4, pad_width=1, mode='constant', constant_values=0)\n",
        "print(\"\\n6x6 Array with Border of Zeros:\")\n",
        "print(array_with_border)\n"
      ],
      "metadata": {
        "colab": {
          "base_uri": "https://localhost:8080/"
        },
        "id": "Qu2ya8_qzuvp",
        "outputId": "b74ba989-729a-4338-e852-4e37c56712a8"
      },
      "execution_count": 42,
      "outputs": [
        {
          "output_type": "stream",
          "name": "stdout",
          "text": [
            "Original 4x4 Array:\n",
            "[[0.84462298 0.19685857 0.46140264 0.05282745]\n",
            " [0.72293366 0.16942596 0.77007215 0.35058328]\n",
            " [0.67417595 0.64420035 0.5410381  0.91579487]\n",
            " [0.14560988 0.02918296 0.79515888 0.05007278]]\n",
            "\n",
            "6x6 Array with Border of Zeros:\n",
            "[[0.         0.         0.         0.         0.         0.        ]\n",
            " [0.         0.84462298 0.19685857 0.46140264 0.05282745 0.        ]\n",
            " [0.         0.72293366 0.16942596 0.77007215 0.35058328 0.        ]\n",
            " [0.         0.67417595 0.64420035 0.5410381  0.91579487 0.        ]\n",
            " [0.         0.14560988 0.02918296 0.79515888 0.05007278 0.        ]\n",
            " [0.         0.         0.         0.         0.         0.        ]]\n"
          ]
        }
      ]
    },
    {
      "cell_type": "code",
      "source": [
        "# 4. Using NumPy, create an array of integers from 10 to 60 with a step of 5."
      ],
      "metadata": {
        "id": "2-KbHLapz5mD"
      },
      "execution_count": 43,
      "outputs": []
    },
    {
      "cell_type": "code",
      "source": [
        "import numpy as np\n",
        "array_integers = np.arange(10, 61, 5)\n",
        "print(\"Array of integers from 10 to 60 with a step of 5:\")\n",
        "print(array_integers)\n"
      ],
      "metadata": {
        "colab": {
          "base_uri": "https://localhost:8080/"
        },
        "id": "UoyQwwcK0A6u",
        "outputId": "193b760d-d00f-4063-a798-9468df2cdfe6"
      },
      "execution_count": 45,
      "outputs": [
        {
          "output_type": "stream",
          "name": "stdout",
          "text": [
            "Array of integers from 10 to 60 with a step of 5:\n",
            "[10 15 20 25 30 35 40 45 50 55 60]\n"
          ]
        }
      ]
    },
    {
      "cell_type": "code",
      "source": [
        "# 5. Create a NumPy array of strings ['python', 'numpy', 'pandas']. Apply different case transformations (uppercase, lowercase, title case, etc.) to each element."
      ],
      "metadata": {
        "id": "rq0aCIW00I25"
      },
      "execution_count": 46,
      "outputs": []
    },
    {
      "cell_type": "code",
      "source": [
        "import numpy as np\n",
        "\n",
        "# Create a NumPy array of strings\n",
        "string_array = np.array(['python', 'numpy', 'pandas'])\n",
        "\n",
        "# Apply different case transformations\n",
        "uppercase = np.char.upper(string_array)\n",
        "lowercase = np.char.lower(string_array)\n",
        "titlecase = np.char.title(string_array)\n",
        "capitalize = np.char.capitalize(string_array)\n",
        "\n",
        "# Display the results\n",
        "print(\"Original Array:\")\n",
        "print(string_array)\n",
        "\n",
        "print(\"\\nUppercase:\")\n",
        "print(uppercase)\n",
        "\n",
        "print(\"\\nLowercase:\")\n",
        "print(lowercase)\n",
        "\n",
        "print(\"\\nTitle Case:\")\n",
        "print(titlecase)\n",
        "\n",
        "print(\"\\nCapitalized:\")\n",
        "print(capitalize)\n"
      ],
      "metadata": {
        "colab": {
          "base_uri": "https://localhost:8080/"
        },
        "id": "obM-o0J40Pzy",
        "outputId": "c6ed6bb2-fd98-4282-be97-2df39ad44d7c"
      },
      "execution_count": 47,
      "outputs": [
        {
          "output_type": "stream",
          "name": "stdout",
          "text": [
            "Original Array:\n",
            "['python' 'numpy' 'pandas']\n",
            "\n",
            "Uppercase:\n",
            "['PYTHON' 'NUMPY' 'PANDAS']\n",
            "\n",
            "Lowercase:\n",
            "['python' 'numpy' 'pandas']\n",
            "\n",
            "Title Case:\n",
            "['Python' 'Numpy' 'Pandas']\n",
            "\n",
            "Capitalized:\n",
            "['Python' 'Numpy' 'Pandas']\n"
          ]
        }
      ]
    },
    {
      "cell_type": "code",
      "source": [
        "# 6. Generate a NumPy array of words. Insert a space between each character of every word in the array."
      ],
      "metadata": {
        "id": "h5Ybs0_A0Wnc"
      },
      "execution_count": 48,
      "outputs": []
    },
    {
      "cell_type": "code",
      "source": [
        "import numpy as np\n",
        "\n",
        "# Create a NumPy array of words\n",
        "words_array = np.array(['hello', 'world', 'numpy', 'python'])\n",
        "\n",
        "# Insert a space between each character of every word\n",
        "spaced_words = np.char.join(' ', words_array)\n",
        "\n",
        "# Display the result\n",
        "print(\"Original Array of Words:\")\n",
        "print(words_array)\n",
        "\n",
        "print(\"\\nWords with Spaces Between Characters:\")\n",
        "print(spaced_words)\n"
      ],
      "metadata": {
        "colab": {
          "base_uri": "https://localhost:8080/"
        },
        "id": "r1H12fcL0bl8",
        "outputId": "07a6a1bc-9f2b-4ac5-9e6e-2e8621dba28d"
      },
      "execution_count": 49,
      "outputs": [
        {
          "output_type": "stream",
          "name": "stdout",
          "text": [
            "Original Array of Words:\n",
            "['hello' 'world' 'numpy' 'python']\n",
            "\n",
            "Words with Spaces Between Characters:\n",
            "['h e l l o' 'w o r l d' 'n u m p y' 'p y t h o n']\n"
          ]
        }
      ]
    },
    {
      "cell_type": "code",
      "source": [
        "# 7. Create two 2D NumPy arrays and perform element-wise addition, subtraction, multiplication, and division."
      ],
      "metadata": {
        "id": "oVjZj3th0geb"
      },
      "execution_count": 50,
      "outputs": []
    },
    {
      "cell_type": "code",
      "source": [
        "import numpy as np\n",
        "\n",
        "# Create two 2D NumPy arrays\n",
        "array1 = np.array([[1, 2, 3],\n",
        "                   [4, 5, 6]])\n",
        "array2 = np.array([[7, 8, 9],\n",
        "                   [10, 11, 12]])\n",
        "\n",
        "# Perform element-wise addition\n",
        "addition = array1 + array2\n",
        "print(\"Element-wise Addition:\")\n",
        "print(addition)\n",
        "\n",
        "# Perform element-wise subtraction\n",
        "subtraction = array1 - array2\n",
        "print(\"\\nElement-wise Subtraction:\")\n",
        "print(subtraction)\n",
        "\n",
        "# Perform element-wise multiplication\n",
        "multiplication = array1 * array2\n",
        "print(\"\\nElement-wise Multiplication:\")\n",
        "print(multiplication)\n",
        "\n",
        "# Perform element-wise division\n",
        "division = array1 / array2\n",
        "print(\"\\nElement-wise Division:\")\n",
        "print(division)\n"
      ],
      "metadata": {
        "colab": {
          "base_uri": "https://localhost:8080/"
        },
        "id": "7GS5N2LH0qMW",
        "outputId": "c9c504fc-8ff2-4545-8ff2-62b031f50e99"
      },
      "execution_count": 51,
      "outputs": [
        {
          "output_type": "stream",
          "name": "stdout",
          "text": [
            "Element-wise Addition:\n",
            "[[ 8 10 12]\n",
            " [14 16 18]]\n",
            "\n",
            "Element-wise Subtraction:\n",
            "[[-6 -6 -6]\n",
            " [-6 -6 -6]]\n",
            "\n",
            "Element-wise Multiplication:\n",
            "[[ 7 16 27]\n",
            " [40 55 72]]\n",
            "\n",
            "Element-wise Division:\n",
            "[[0.14285714 0.25       0.33333333]\n",
            " [0.4        0.45454545 0.5       ]]\n"
          ]
        }
      ]
    },
    {
      "cell_type": "code",
      "source": [
        "# 8. Use NumPy to create a 5x5 identity matrix, then extract its diagonal elements."
      ],
      "metadata": {
        "id": "VxqI3dkJ0uXh"
      },
      "execution_count": 52,
      "outputs": []
    },
    {
      "cell_type": "code",
      "source": [
        "import numpy as np\n",
        "\n",
        "# Create a 5x5 identity matrix\n",
        "identity_matrix = np.eye(5)\n",
        "print(\"5x5 Identity Matrix:\")\n",
        "print(identity_matrix)\n",
        "\n",
        "# Extract the diagonal elements\n",
        "diagonal_elements = np.diagonal(identity_matrix)\n",
        "# Alternatively, you can use: diagonal_elements = identity_matrix.diagonal()\n",
        "\n",
        "print(\"\\nDiagonal Elements:\")\n",
        "print(diagonal_elements)\n"
      ],
      "metadata": {
        "colab": {
          "base_uri": "https://localhost:8080/"
        },
        "id": "LFIA6Yuc0yV9",
        "outputId": "d658232e-b540-4bca-b110-cc7ffcb96523"
      },
      "execution_count": 53,
      "outputs": [
        {
          "output_type": "stream",
          "name": "stdout",
          "text": [
            "5x5 Identity Matrix:\n",
            "[[1. 0. 0. 0. 0.]\n",
            " [0. 1. 0. 0. 0.]\n",
            " [0. 0. 1. 0. 0.]\n",
            " [0. 0. 0. 1. 0.]\n",
            " [0. 0. 0. 0. 1.]]\n",
            "\n",
            "Diagonal Elements:\n",
            "[1. 1. 1. 1. 1.]\n"
          ]
        }
      ]
    },
    {
      "cell_type": "code",
      "source": [
        "# 9. Generate a NumPy array of 100 random integers between 0 and 1000. Find and display all prime numbers in this array."
      ],
      "metadata": {
        "id": "rWyD6Rgm03E7"
      },
      "execution_count": 54,
      "outputs": []
    },
    {
      "cell_type": "code",
      "source": [
        "import numpy as np\n",
        "\n",
        "# Function to check if a number is prime\n",
        "def is_prime(n):\n",
        "    if n <= 1:\n",
        "        return False\n",
        "    for i in range(2, int(n**0.5) + 1):\n",
        "        if n % i == 0:\n",
        "            return False\n",
        "    return True\n",
        "\n",
        "# Generate a NumPy array of 100 random integers between 0 and 1000\n",
        "random_integers = np.random.randint(0, 1001, size=100)\n",
        "print(\"Array of Random Integers:\")\n",
        "print(random_integers)\n",
        "\n",
        "# Find all prime numbers in the array\n",
        "prime_numbers = [num for num in random_integers if is_prime(num)]\n",
        "\n",
        "print(\"\\nPrime Numbers in the Array:\")\n",
        "print(prime_numbers)\n"
      ],
      "metadata": {
        "colab": {
          "base_uri": "https://localhost:8080/"
        },
        "id": "eW3MYglB07FA",
        "outputId": "5ea3da96-5964-4290-ccc5-2d9a7317823d"
      },
      "execution_count": 55,
      "outputs": [
        {
          "output_type": "stream",
          "name": "stdout",
          "text": [
            "Array of Random Integers:\n",
            "[392 843  49 847 656 497 324 716  32 714 167 601 977 712 199 224 179 361\n",
            " 332 743 861 158 305 186  41  68 626 704 683 672  23 943   0 608 697 357\n",
            "  10 613 377 296 610 491 459 994 378 265 132 825 812 304   7   7 285 716\n",
            " 559 864 605 431 751 806 213 637 804 979 891 931 988 735 655 103 436 648\n",
            " 627 407 116  28 191 198 859 558 823 330 598  65 455 152 323 233 942 172\n",
            " 443 638 988 266 115 940 490 356 896 369]\n",
            "\n",
            "Prime Numbers in the Array:\n",
            "[167, 601, 977, 199, 179, 743, 41, 683, 23, 613, 491, 7, 7, 431, 751, 103, 191, 859, 823, 233, 443]\n"
          ]
        }
      ]
    },
    {
      "cell_type": "code",
      "source": [],
      "metadata": {
        "id": "Zj9JWIB50_gM"
      },
      "execution_count": null,
      "outputs": []
    }
  ]
}